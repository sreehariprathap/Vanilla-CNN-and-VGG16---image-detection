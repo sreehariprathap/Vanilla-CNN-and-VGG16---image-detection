{
 "cells": [
  {
   "cell_type": "markdown",
   "metadata": {},
   "source": [
    "# CSCN8010 Foundations of Machine Learning Frameworks \n",
    "## Practical Lab 3 : Vanilla CNN and Fine-Tune VGG16 - for Dogs and Cats Classification\n",
    "\n",
    "### Submitted by\n",
    "- Name : Sreehari Prathap\n",
    "- Student ID : 8903199\n",
    "- Email : sprathap3199@conestogac.on.ca"
   ]
  }
 ],
 "metadata": {
  "language_info": {
   "name": "python"
  }
 },
 "nbformat": 4,
 "nbformat_minor": 2
}
